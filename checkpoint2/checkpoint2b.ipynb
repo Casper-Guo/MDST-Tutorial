{
 "cells": [
  {
   "cell_type": "markdown",
   "metadata": {},
   "source": [
    "<h1> The Challenge:</h1>\n",
    "\n",
    "Based off this dataset with school financial, enrollment, and achievement data, we are interested in what information is a useful indicator of student performance at the state level.\n",
    "\n",
    "This question is a bit too big for a checkpoint, however. Instead, we want you to look at smaller questions related to our overall goal. Here's the overview:\n",
    "\n",
    "1. Choose a specific test to focus on\n",
    ">Math/Reading for 4/8 grade\n",
    "* Pick or create features to use\n",
    ">Will all the features be useful in predicting test score? Are some more important than others? Should you standardize, bin, or scale the data?\n",
    "* Explore the data as it relates to that test\n",
    ">Create 2 well-labeled visualizations (graphs), each with a caption describing the graph and what it tells us about the data\n",
    "* Create training and testing data\n",
    ">Do you want to train on all the data? Only data from the last 10 years? Only Michigan data?\n",
    "* Train a ML model to predict outcome \n",
    ">Pick if you want to do a regression or classification task. For both cases, defined _exactly_ what you want to predict, and pick any model in sklearn to use (see sklearn <a href=\"https://scikit-learn.org/stable/modules/linear_model.html\">regressors</a> and <a href=\"https://scikit-learn.org/stable/auto_examples/classification/plot_classifier_comparison.html\">classifiers</a>).\n",
    "* Summarize your findings\n",
    ">Write a 1 paragraph summary of what you did and make a recommendation about if and how student performance can be predicted\n",
    "\n",
    "** Include comments throughout your code! Every cleanup and preprocessing task should be documented.\n",
    "\n",
    "\n",
    "Of course, if you're finding this assignment interesting (and we really hope you do!), you are welcome to do more than the requirements! For example, you may want to see if expenditure affects 4th graders more than 8th graders. Maybe you want to look into the extended version of this dataset and see how factors like sex and race are involved. You can include all your work in this notebook when you turn it in -- just always make sure you explain what you did and interpret your results. Good luck!"
   ]
  },
  {
   "cell_type": "code",
   "execution_count": 1,
   "metadata": {},
   "outputs": [],
   "source": [
    "import pandas as pd\n",
    "import numpy as np\n",
    "import matplotlib.pyplot as plt\n",
    "import seaborn as sns\n",
    "\n",
    "# feel free to import other libraries! "
   ]
  },
  {
   "cell_type": "code",
   "execution_count": 2,
   "metadata": {},
   "outputs": [],
   "source": [
    "df = pd.read_csv(r'D:\\Projects\\MDST\\Tutorial\\mdst_tutorials\\data\\states_edu.csv')"
   ]
  },
  {
   "cell_type": "markdown",
   "metadata": {},
   "source": [
    "Chosen test: **<Math 8th grade>**"
   ]
  },
  {
   "cell_type": "markdown",
   "metadata": {},
   "source": [
    "<h2> Cleanup (optional)</h2>\n",
    "\n",
    "_Use this space to rename columns, deal with missing data, etc._"
   ]
  },
  {
   "cell_type": "code",
   "execution_count": 3,
   "metadata": {},
   "outputs": [
    {
     "name": "stdout",
     "output_type": "stream",
     "text": [
      "Index(['PRIMARY_KEY', 'STATE', 'YEAR', 'ENROLL', 'TOTAL_REVENUE',\n",
      "       'FEDERAL_REVENUE', 'STATE_REVENUE', 'LOCAL_REVENUE',\n",
      "       'TOTAL_EXPENDITURE', 'INSTRUCTION_EXPENDITURE',\n",
      "       'SUPPORT_SERVICES_EXPENDITURE', 'OTHER_EXPENDITURE',\n",
      "       'CAPITAL_OUTLAY_EXPENDITURE', 'GRADES_PK_G', 'GRADES_KG_G',\n",
      "       'GRADES_4_G', 'GRADES_8_G', 'GRADES_12_G', 'GRADES_1_8_G',\n",
      "       'GRADES_9_12_G', 'GRADES_ALL_G', 'AVG_MATH_4_SCORE', 'AVG_MATH_8_SCORE',\n",
      "       'AVG_READING_4_SCORE', 'AVG_READING_8_SCORE'],\n",
      "      dtype='object')\n"
     ]
    }
   ],
   "source": [
    "print(df.columns)"
   ]
  },
  {
   "cell_type": "code",
   "execution_count": 4,
   "metadata": {},
   "outputs": [
    {
     "name": "stdout",
     "output_type": "stream",
     "text": [
      "PRIMARY_KEY                        0\n",
      "STATE                              0\n",
      "YEAR                               0\n",
      "ENROLL                           491\n",
      "TOTAL_REVENUE                    440\n",
      "FEDERAL_REVENUE                  440\n",
      "STATE_REVENUE                    440\n",
      "LOCAL_REVENUE                    440\n",
      "TOTAL_EXPENDITURE                440\n",
      "INSTRUCTION_EXPENDITURE          440\n",
      "SUPPORT_SERVICES_EXPENDITURE     440\n",
      "OTHER_EXPENDITURE                491\n",
      "CAPITAL_OUTLAY_EXPENDITURE       440\n",
      "GRADES_PK_G                      173\n",
      "GRADES_KG_G                       83\n",
      "GRADES_4_G                        83\n",
      "GRADES_8_G                        83\n",
      "GRADES_12_G                       83\n",
      "GRADES_1_8_G                     695\n",
      "GRADES_9_12_G                    644\n",
      "GRADES_ALL_G                      83\n",
      "AVG_MATH_4_SCORE                1150\n",
      "AVG_MATH_8_SCORE                1113\n",
      "AVG_READING_4_SCORE             1065\n",
      "AVG_READING_8_SCORE             1153\n",
      "dtype: int64\n"
     ]
    }
   ],
   "source": [
    "print(df.isna().sum())"
   ]
  },
  {
   "cell_type": "code",
   "execution_count": 5,
   "metadata": {},
   "outputs": [
    {
     "name": "stdout",
     "output_type": "stream",
     "text": [
      "(478, 25)\n"
     ]
    }
   ],
   "source": [
    "df_drop_na = df.dropna(subset=[\"AVG_MATH_4_SCORE\", \"AVG_READING_4_SCORE\", \"AVG_READING_8_SCORE\"])\n",
    "print(df_drop_na.shape)"
   ]
  },
  {
   "cell_type": "code",
   "execution_count": 6,
   "metadata": {},
   "outputs": [],
   "source": [
    "# Not many entries have data about the average score from all three other tests. The test score may be estimated using that year's\n",
    "# national average, but doing so risk compromising the integrity of the dataset.\n",
    "# In this case, I will proceed by only working with entries with all relevant data intact.\n",
    "# From the tutorial we see both expenditure and enrollment has little correlation with test score.\n",
    "# Instead we will include the states as a feature "
   ]
  },
  {
   "cell_type": "markdown",
   "metadata": {},
   "source": [
    "<h2> Feature Selection </h2>\n",
    "\n",
    "_Use this space to modify or create features_"
   ]
  },
  {
   "cell_type": "code",
   "execution_count": 7,
   "metadata": {},
   "outputs": [
    {
     "name": "stdout",
     "output_type": "stream",
     "text": [
      "['ALABAMA' 'ALASKA' 'ARIZONA' 'ARKANSAS' 'CALIFORNIA' 'COLORADO'\n",
      " 'CONNECTICUT' 'DELAWARE' 'DISTRICT_OF_COLUMBIA' 'FLORIDA' 'GEORGIA'\n",
      " 'HAWAII' 'IDAHO' 'ILLINOIS' 'INDIANA' 'IOWA' 'KANSAS' 'KENTUCKY'\n",
      " 'LOUISIANA' 'MAINE' 'MARYLAND' 'MASSACHUSETTS' 'MICHIGAN' 'MINNESOTA'\n",
      " 'MISSISSIPPI' 'MISSOURI' 'MONTANA' 'NEBRASKA' 'NEVADA' 'NEW_HAMPSHIRE'\n",
      " 'NEW_JERSEY' 'NEW_MEXICO' 'NEW_YORK' 'NORTH_CAROLINA' 'NORTH_DAKOTA'\n",
      " 'OHIO' 'OKLAHOMA' 'OREGON' 'PENNSYLVANIA' 'RHODE_ISLAND' 'SOUTH_CAROLINA'\n",
      " 'SOUTH_DAKOTA' 'TENNESSEE' 'TEXAS' 'UTAH' 'VERMONT' 'VIRGINIA'\n",
      " 'WASHINGTON' 'WEST_VIRGINIA' 'WISCONSIN' 'WYOMING' 'NATIONAL' 'DODEA']\n"
     ]
    }
   ],
   "source": [
    "print(df_drop_na[\"STATE\"].unique())"
   ]
  },
  {
   "cell_type": "code",
   "execution_count": 66,
   "metadata": {},
   "outputs": [
    {
     "data": {
      "text/html": [
       "<div>\n",
       "<style scoped>\n",
       "    .dataframe tbody tr th:only-of-type {\n",
       "        vertical-align: middle;\n",
       "    }\n",
       "\n",
       "    .dataframe tbody tr th {\n",
       "        vertical-align: top;\n",
       "    }\n",
       "\n",
       "    .dataframe thead th {\n",
       "        text-align: right;\n",
       "    }\n",
       "</style>\n",
       "<table border=\"1\" class=\"dataframe\">\n",
       "  <thead>\n",
       "    <tr style=\"text-align: right;\">\n",
       "      <th></th>\n",
       "      <th>STATE</th>\n",
       "      <th>AVG_MATH_4_SCORE</th>\n",
       "      <th>AVG_MATH_8_SCORE</th>\n",
       "      <th>AVG_READING_4_SCORE</th>\n",
       "      <th>AVG_READING_8_SCORE</th>\n",
       "      <th>YEAR</th>\n",
       "      <th>STATE_ALABAMA</th>\n",
       "      <th>STATE_ALASKA</th>\n",
       "      <th>STATE_ARIZONA</th>\n",
       "      <th>STATE_ARKANSAS</th>\n",
       "      <th>...</th>\n",
       "      <th>STATE_SOUTH_DAKOTA</th>\n",
       "      <th>STATE_TENNESSEE</th>\n",
       "      <th>STATE_TEXAS</th>\n",
       "      <th>STATE_UTAH</th>\n",
       "      <th>STATE_VERMONT</th>\n",
       "      <th>STATE_VIRGINIA</th>\n",
       "      <th>STATE_WASHINGTON</th>\n",
       "      <th>STATE_WEST_VIRGINIA</th>\n",
       "      <th>STATE_WISCONSIN</th>\n",
       "      <th>STATE_WYOMING</th>\n",
       "    </tr>\n",
       "  </thead>\n",
       "  <tbody>\n",
       "    <tr>\n",
       "      <th>0</th>\n",
       "      <td>ALABAMA</td>\n",
       "      <td>223.0</td>\n",
       "      <td>262.0</td>\n",
       "      <td>207.0</td>\n",
       "      <td>253.0</td>\n",
       "      <td>2003</td>\n",
       "      <td>1</td>\n",
       "      <td>0</td>\n",
       "      <td>0</td>\n",
       "      <td>0</td>\n",
       "      <td>...</td>\n",
       "      <td>0</td>\n",
       "      <td>0</td>\n",
       "      <td>0</td>\n",
       "      <td>0</td>\n",
       "      <td>0</td>\n",
       "      <td>0</td>\n",
       "      <td>0</td>\n",
       "      <td>0</td>\n",
       "      <td>0</td>\n",
       "      <td>0</td>\n",
       "    </tr>\n",
       "    <tr>\n",
       "      <th>1</th>\n",
       "      <td>ALASKA</td>\n",
       "      <td>233.0</td>\n",
       "      <td>279.0</td>\n",
       "      <td>212.0</td>\n",
       "      <td>256.0</td>\n",
       "      <td>2003</td>\n",
       "      <td>0</td>\n",
       "      <td>1</td>\n",
       "      <td>0</td>\n",
       "      <td>0</td>\n",
       "      <td>...</td>\n",
       "      <td>0</td>\n",
       "      <td>0</td>\n",
       "      <td>0</td>\n",
       "      <td>0</td>\n",
       "      <td>0</td>\n",
       "      <td>0</td>\n",
       "      <td>0</td>\n",
       "      <td>0</td>\n",
       "      <td>0</td>\n",
       "      <td>0</td>\n",
       "    </tr>\n",
       "    <tr>\n",
       "      <th>2</th>\n",
       "      <td>ARIZONA</td>\n",
       "      <td>229.0</td>\n",
       "      <td>271.0</td>\n",
       "      <td>209.0</td>\n",
       "      <td>255.0</td>\n",
       "      <td>2003</td>\n",
       "      <td>0</td>\n",
       "      <td>0</td>\n",
       "      <td>1</td>\n",
       "      <td>0</td>\n",
       "      <td>...</td>\n",
       "      <td>0</td>\n",
       "      <td>0</td>\n",
       "      <td>0</td>\n",
       "      <td>0</td>\n",
       "      <td>0</td>\n",
       "      <td>0</td>\n",
       "      <td>0</td>\n",
       "      <td>0</td>\n",
       "      <td>0</td>\n",
       "      <td>0</td>\n",
       "    </tr>\n",
       "    <tr>\n",
       "      <th>3</th>\n",
       "      <td>ARKANSAS</td>\n",
       "      <td>229.0</td>\n",
       "      <td>266.0</td>\n",
       "      <td>214.0</td>\n",
       "      <td>258.0</td>\n",
       "      <td>2003</td>\n",
       "      <td>0</td>\n",
       "      <td>0</td>\n",
       "      <td>0</td>\n",
       "      <td>1</td>\n",
       "      <td>...</td>\n",
       "      <td>0</td>\n",
       "      <td>0</td>\n",
       "      <td>0</td>\n",
       "      <td>0</td>\n",
       "      <td>0</td>\n",
       "      <td>0</td>\n",
       "      <td>0</td>\n",
       "      <td>0</td>\n",
       "      <td>0</td>\n",
       "      <td>0</td>\n",
       "    </tr>\n",
       "    <tr>\n",
       "      <th>4</th>\n",
       "      <td>CALIFORNIA</td>\n",
       "      <td>227.0</td>\n",
       "      <td>267.0</td>\n",
       "      <td>206.0</td>\n",
       "      <td>251.0</td>\n",
       "      <td>2003</td>\n",
       "      <td>0</td>\n",
       "      <td>0</td>\n",
       "      <td>0</td>\n",
       "      <td>0</td>\n",
       "      <td>...</td>\n",
       "      <td>0</td>\n",
       "      <td>0</td>\n",
       "      <td>0</td>\n",
       "      <td>0</td>\n",
       "      <td>0</td>\n",
       "      <td>0</td>\n",
       "      <td>0</td>\n",
       "      <td>0</td>\n",
       "      <td>0</td>\n",
       "      <td>0</td>\n",
       "    </tr>\n",
       "    <tr>\n",
       "      <th>...</th>\n",
       "      <td>...</td>\n",
       "      <td>...</td>\n",
       "      <td>...</td>\n",
       "      <td>...</td>\n",
       "      <td>...</td>\n",
       "      <td>...</td>\n",
       "      <td>...</td>\n",
       "      <td>...</td>\n",
       "      <td>...</td>\n",
       "      <td>...</td>\n",
       "      <td>...</td>\n",
       "      <td>...</td>\n",
       "      <td>...</td>\n",
       "      <td>...</td>\n",
       "      <td>...</td>\n",
       "      <td>...</td>\n",
       "      <td>...</td>\n",
       "      <td>...</td>\n",
       "      <td>...</td>\n",
       "      <td>...</td>\n",
       "      <td>...</td>\n",
       "    </tr>\n",
       "    <tr>\n",
       "      <th>473</th>\n",
       "      <td>VIRGINIA</td>\n",
       "      <td>247.0</td>\n",
       "      <td>287.0</td>\n",
       "      <td>224.0</td>\n",
       "      <td>262.0</td>\n",
       "      <td>2019</td>\n",
       "      <td>0</td>\n",
       "      <td>0</td>\n",
       "      <td>0</td>\n",
       "      <td>0</td>\n",
       "      <td>...</td>\n",
       "      <td>0</td>\n",
       "      <td>0</td>\n",
       "      <td>0</td>\n",
       "      <td>0</td>\n",
       "      <td>0</td>\n",
       "      <td>1</td>\n",
       "      <td>0</td>\n",
       "      <td>0</td>\n",
       "      <td>0</td>\n",
       "      <td>0</td>\n",
       "    </tr>\n",
       "    <tr>\n",
       "      <th>474</th>\n",
       "      <td>WASHINGTON</td>\n",
       "      <td>240.0</td>\n",
       "      <td>286.0</td>\n",
       "      <td>220.0</td>\n",
       "      <td>266.0</td>\n",
       "      <td>2019</td>\n",
       "      <td>0</td>\n",
       "      <td>0</td>\n",
       "      <td>0</td>\n",
       "      <td>0</td>\n",
       "      <td>...</td>\n",
       "      <td>0</td>\n",
       "      <td>0</td>\n",
       "      <td>0</td>\n",
       "      <td>0</td>\n",
       "      <td>0</td>\n",
       "      <td>0</td>\n",
       "      <td>1</td>\n",
       "      <td>0</td>\n",
       "      <td>0</td>\n",
       "      <td>0</td>\n",
       "    </tr>\n",
       "    <tr>\n",
       "      <th>475</th>\n",
       "      <td>WEST_VIRGINIA</td>\n",
       "      <td>231.0</td>\n",
       "      <td>272.0</td>\n",
       "      <td>213.0</td>\n",
       "      <td>256.0</td>\n",
       "      <td>2019</td>\n",
       "      <td>0</td>\n",
       "      <td>0</td>\n",
       "      <td>0</td>\n",
       "      <td>0</td>\n",
       "      <td>...</td>\n",
       "      <td>0</td>\n",
       "      <td>0</td>\n",
       "      <td>0</td>\n",
       "      <td>0</td>\n",
       "      <td>0</td>\n",
       "      <td>0</td>\n",
       "      <td>0</td>\n",
       "      <td>1</td>\n",
       "      <td>0</td>\n",
       "      <td>0</td>\n",
       "    </tr>\n",
       "    <tr>\n",
       "      <th>476</th>\n",
       "      <td>WISCONSIN</td>\n",
       "      <td>242.0</td>\n",
       "      <td>289.0</td>\n",
       "      <td>220.0</td>\n",
       "      <td>267.0</td>\n",
       "      <td>2019</td>\n",
       "      <td>0</td>\n",
       "      <td>0</td>\n",
       "      <td>0</td>\n",
       "      <td>0</td>\n",
       "      <td>...</td>\n",
       "      <td>0</td>\n",
       "      <td>0</td>\n",
       "      <td>0</td>\n",
       "      <td>0</td>\n",
       "      <td>0</td>\n",
       "      <td>0</td>\n",
       "      <td>0</td>\n",
       "      <td>0</td>\n",
       "      <td>1</td>\n",
       "      <td>0</td>\n",
       "    </tr>\n",
       "    <tr>\n",
       "      <th>477</th>\n",
       "      <td>WYOMING</td>\n",
       "      <td>246.0</td>\n",
       "      <td>286.0</td>\n",
       "      <td>227.0</td>\n",
       "      <td>265.0</td>\n",
       "      <td>2019</td>\n",
       "      <td>0</td>\n",
       "      <td>0</td>\n",
       "      <td>0</td>\n",
       "      <td>0</td>\n",
       "      <td>...</td>\n",
       "      <td>0</td>\n",
       "      <td>0</td>\n",
       "      <td>0</td>\n",
       "      <td>0</td>\n",
       "      <td>0</td>\n",
       "      <td>0</td>\n",
       "      <td>0</td>\n",
       "      <td>0</td>\n",
       "      <td>0</td>\n",
       "      <td>1</td>\n",
       "    </tr>\n",
       "  </tbody>\n",
       "</table>\n",
       "<p>478 rows × 59 columns</p>\n",
       "</div>"
      ],
      "text/plain": [
       "             STATE  AVG_MATH_4_SCORE  AVG_MATH_8_SCORE  AVG_READING_4_SCORE  \\\n",
       "0          ALABAMA             223.0             262.0                207.0   \n",
       "1           ALASKA             233.0             279.0                212.0   \n",
       "2          ARIZONA             229.0             271.0                209.0   \n",
       "3         ARKANSAS             229.0             266.0                214.0   \n",
       "4       CALIFORNIA             227.0             267.0                206.0   \n",
       "..             ...               ...               ...                  ...   \n",
       "473       VIRGINIA             247.0             287.0                224.0   \n",
       "474     WASHINGTON             240.0             286.0                220.0   \n",
       "475  WEST_VIRGINIA             231.0             272.0                213.0   \n",
       "476      WISCONSIN             242.0             289.0                220.0   \n",
       "477        WYOMING             246.0             286.0                227.0   \n",
       "\n",
       "     AVG_READING_8_SCORE  YEAR  STATE_ALABAMA  STATE_ALASKA  STATE_ARIZONA  \\\n",
       "0                  253.0  2003              1             0              0   \n",
       "1                  256.0  2003              0             1              0   \n",
       "2                  255.0  2003              0             0              1   \n",
       "3                  258.0  2003              0             0              0   \n",
       "4                  251.0  2003              0             0              0   \n",
       "..                   ...   ...            ...           ...            ...   \n",
       "473                262.0  2019              0             0              0   \n",
       "474                266.0  2019              0             0              0   \n",
       "475                256.0  2019              0             0              0   \n",
       "476                267.0  2019              0             0              0   \n",
       "477                265.0  2019              0             0              0   \n",
       "\n",
       "     STATE_ARKANSAS  ...  STATE_SOUTH_DAKOTA  STATE_TENNESSEE  STATE_TEXAS  \\\n",
       "0                 0  ...                   0                0            0   \n",
       "1                 0  ...                   0                0            0   \n",
       "2                 0  ...                   0                0            0   \n",
       "3                 1  ...                   0                0            0   \n",
       "4                 0  ...                   0                0            0   \n",
       "..              ...  ...                 ...              ...          ...   \n",
       "473               0  ...                   0                0            0   \n",
       "474               0  ...                   0                0            0   \n",
       "475               0  ...                   0                0            0   \n",
       "476               0  ...                   0                0            0   \n",
       "477               0  ...                   0                0            0   \n",
       "\n",
       "     STATE_UTAH  STATE_VERMONT  STATE_VIRGINIA  STATE_WASHINGTON  \\\n",
       "0             0              0               0                 0   \n",
       "1             0              0               0                 0   \n",
       "2             0              0               0                 0   \n",
       "3             0              0               0                 0   \n",
       "4             0              0               0                 0   \n",
       "..          ...            ...             ...               ...   \n",
       "473           0              0               1                 0   \n",
       "474           0              0               0                 1   \n",
       "475           0              0               0                 0   \n",
       "476           0              0               0                 0   \n",
       "477           0              0               0                 0   \n",
       "\n",
       "     STATE_WEST_VIRGINIA  STATE_WISCONSIN  STATE_WYOMING  \n",
       "0                      0                0              0  \n",
       "1                      0                0              0  \n",
       "2                      0                0              0  \n",
       "3                      0                0              0  \n",
       "4                      0                0              0  \n",
       "..                   ...              ...            ...  \n",
       "473                    0                0              0  \n",
       "474                    0                0              0  \n",
       "475                    1                0              0  \n",
       "476                    0                1              0  \n",
       "477                    0                0              1  \n",
       "\n",
       "[478 rows x 59 columns]"
      ]
     },
     "execution_count": 66,
     "metadata": {},
     "output_type": "execute_result"
    }
   ],
   "source": [
    "# There is nothing strange with the state data labels, we can safely use them\n",
    "df_model = df_drop_na[[\"STATE\", \"AVG_MATH_4_SCORE\", \"AVG_MATH_8_SCORE\", \"AVG_READING_4_SCORE\", \"AVG_READING_8_SCORE\", \"YEAR\"]]\n",
    "df_model = df_model.reset_index()\n",
    "\n",
    "# turns out the regression model doesn't accept categorical data, one hot encoding is performed below\n",
    "state_encoded = pd.get_dummies(df_model[\"STATE\"], prefix=\"STATE\")\n",
    "df_model = df_model.merge(state_encoded, how=\"left\", left_index=True, right_index=True)\n",
    "df_model.drop(labels=\"index\", axis=1)"
   ]
  },
  {
   "cell_type": "markdown",
   "metadata": {},
   "source": [
    "Final feature list: **<STATE, AVG_MATH_4_SCORE, AVG_READING_8_SCORE, AVG_READING_4_SCORE\\>**"
   ]
  },
  {
   "cell_type": "markdown",
   "metadata": {},
   "source": [
    "Feature selection justification: **<It is reasonable to suspect that there exist strong correlations between the test scores, as is also shown in the tutorial. It is also a fact that some states consistently perform better on tests than others, which makes it a valuable feature to include\\>**"
   ]
  },
  {
   "cell_type": "markdown",
   "metadata": {},
   "source": [
    "<h2> EDA </h2>"
   ]
  },
  {
   "cell_type": "markdown",
   "metadata": {},
   "source": [
    "Visualization 1"
   ]
  },
  {
   "cell_type": "code",
   "execution_count": 24,
   "metadata": {},
   "outputs": [
    {
     "data": {
      "text/plain": [
       "Text(0.5, 1.0, 'Distribution of Median State Grade 8 Math Score')"
      ]
     },
     "execution_count": 24,
     "metadata": {},
     "output_type": "execute_result"
    },
    {
     "data": {
      "image/png": "[encoded data removed]",
      "text/plain": [
       "<Figure size 432x288 with 1 Axes>"
      ]
     },
     "metadata": {
      "needs_background": "light"
     },
     "output_type": "display_data"
    }
   ],
   "source": [
    "df_model.groupby(\"STATE\").median()[\"AVG_MATH_8_SCORE\"].hist(edgecolor=\"Black\", bins=range(255,306,5), grid=False)\n",
    "plt.xlabel(\"Median Grade 8 Math Score\")\n",
    "plt.ylabel(\"Frequency\")\n",
    "plt.title(\"Distribution of Median State Grade 8 Math Score\")"
   ]
  },
  {
   "cell_type": "markdown",
   "metadata": {},
   "source": [
    "**<The median of the average Grade 8 math score in all 53 states/regions out of all years with records mostly falls between 280 and 290. There are some notable outliers in this graph, specifically one state with a median that's higher than 295, and three states with medians lower than 270.>**"
   ]
  },
  {
   "cell_type": "markdown",
   "metadata": {},
   "source": [
    "Visualization 2"
   ]
  },
  {
   "cell_type": "code",
   "execution_count": 25,
   "metadata": {},
   "outputs": [
    {
     "data": {
      "text/plain": [
       "Text(0.5, 1.0, 'National Median Grade 8 Math Score Over Time')"
      ]
     },
     "execution_count": 25,
     "metadata": {},
     "output_type": "execute_result"
    },
    {
     "data": {
      "image/png": "[encoded data removed]",
      "text/plain": [
       "<Figure size 432x288 with 1 Axes>"
      ]
     },
     "metadata": {
      "needs_background": "light"
     },
     "output_type": "display_data"
    }
   ],
   "source": [
    "df_model.groupby(\"YEAR\").median()[\"AVG_MATH_8_SCORE\"].plot()\n",
    "plt.xlabel(\"Year\")\n",
    "plt.ylabel(\"National Median Grade 8 Math Average Score\")\n",
    "plt.title(\"National Median Grade 8 Math Score Over Time\")"
   ]
  },
  {
   "cell_type": "markdown",
   "metadata": {},
   "source": [
    "**<The period between 1992 and 2010 is marked by remarkably rapid and consistent improvement of Grade 8 Math Competency as measured by the national median. In the 2010s the median score stopped increasingly consistently. By the end of 2010s, math competency as measured by test score has slipped back to pre-2010 level.>**"
   ]
  },
  {
   "cell_type": "markdown",
   "metadata": {},
   "source": [
    "<h2> Data Creation </h2>\n",
    "\n",
    "_Use this space to create train/test data_"
   ]
  },
  {
   "cell_type": "code",
   "execution_count": 30,
   "metadata": {},
   "outputs": [],
   "source": [
    "from sklearn.model_selection import train_test_split"
   ]
  },
  {
   "cell_type": "code",
   "execution_count": 74,
   "metadata": {},
   "outputs": [
    {
     "name": "stdout",
     "output_type": "stream",
     "text": [
      "Index(['index', 'AVG_MATH_4_SCORE', 'AVG_READING_4_SCORE',\n",
      "       'AVG_READING_8_SCORE', 'STATE_ALABAMA', 'STATE_ALASKA', 'STATE_ARIZONA',\n",
      "       'STATE_ARKANSAS', 'STATE_CALIFORNIA', 'STATE_COLORADO',\n",
      "       'STATE_CONNECTICUT', 'STATE_DELAWARE', 'STATE_DISTRICT_OF_COLUMBIA',\n",
      "       'STATE_DODEA', 'STATE_FLORIDA', 'STATE_GEORGIA', 'STATE_HAWAII',\n",
      "       'STATE_IDAHO', 'STATE_ILLINOIS', 'STATE_INDIANA', 'STATE_IOWA',\n",
      "       'STATE_KANSAS', 'STATE_KENTUCKY', 'STATE_LOUISIANA', 'STATE_MAINE',\n",
      "       'STATE_MARYLAND', 'STATE_MASSACHUSETTS', 'STATE_MICHIGAN',\n",
      "       'STATE_MINNESOTA', 'STATE_MISSISSIPPI', 'STATE_MISSOURI',\n",
      "       'STATE_MONTANA', 'STATE_NATIONAL', 'STATE_NEBRASKA', 'STATE_NEVADA',\n",
      "       'STATE_NEW_HAMPSHIRE', 'STATE_NEW_JERSEY', 'STATE_NEW_MEXICO',\n",
      "       'STATE_NEW_YORK', 'STATE_NORTH_CAROLINA', 'STATE_NORTH_DAKOTA',\n",
      "       'STATE_OHIO', 'STATE_OKLAHOMA', 'STATE_OREGON', 'STATE_PENNSYLVANIA',\n",
      "       'STATE_RHODE_ISLAND', 'STATE_SOUTH_CAROLINA', 'STATE_SOUTH_DAKOTA',\n",
      "       'STATE_TENNESSEE', 'STATE_TEXAS', 'STATE_UTAH', 'STATE_VERMONT',\n",
      "       'STATE_VIRGINIA', 'STATE_WASHINGTON', 'STATE_WEST_VIRGINIA',\n",
      "       'STATE_WISCONSIN', 'STATE_WYOMING'],\n",
      "      dtype='object')\n"
     ]
    }
   ],
   "source": [
    "X = df_model.drop(labels=[\"STATE\", \"YEAR\", \"AVG_MATH_8_SCORE\"], axis=1)\n",
    "print(X.columns)\n",
    "y = df_model[\"AVG_MATH_8_SCORE\"]"
   ]
  },
  {
   "cell_type": "code",
   "execution_count": 46,
   "metadata": {},
   "outputs": [],
   "source": [
    "X_train, X_test, y_train, y_test = train_test_split(\n",
    "     X, y, test_size=0.3, random_state=42)"
   ]
  },
  {
   "cell_type": "markdown",
   "metadata": {},
   "source": [
    "<h2> Prediction </h2>"
   ]
  },
  {
   "cell_type": "markdown",
   "metadata": {},
   "source": [
    "Chosen ML task: REGRESSION"
   ]
  },
  {
   "cell_type": "code",
   "execution_count": 61,
   "metadata": {},
   "outputs": [],
   "source": [
    "# import your sklearn class here\n",
    "from sklearn.linear_model import LinearRegression as regressor"
   ]
  },
  {
   "cell_type": "code",
   "execution_count": 62,
   "metadata": {},
   "outputs": [],
   "source": [
    "# create your model here\n",
    "model = regressor(n_jobs=-1)"
   ]
  },
  {
   "cell_type": "code",
   "execution_count": 63,
   "metadata": {},
   "outputs": [
    {
     "data": {
      "text/plain": [
       "LinearRegression(n_jobs=-1)"
      ]
     },
     "execution_count": 63,
     "metadata": {},
     "output_type": "execute_result"
    }
   ],
   "source": [
    "model.fit(X_train, y_train)"
   ]
  },
  {
   "cell_type": "code",
   "execution_count": 64,
   "metadata": {},
   "outputs": [],
   "source": [
    "y_pred = model.predict(X_test)"
   ]
  },
  {
   "cell_type": "code",
   "execution_count": null,
   "metadata": {},
   "outputs": [],
   "source": [
    "# FOR CLASSIFICATION ONLY:\n",
    "from sklearn.metrics import plot_confusion_matrix\n",
    "\n",
    "plot_confusion_matrix(model, X_test, y_test,\n",
    "                         cmap=plt.cm.Blues)"
   ]
  },
  {
   "cell_type": "code",
   "execution_count": 69,
   "metadata": {},
   "outputs": [
    {
     "data": {
      "text/plain": [
       "Text(0, 0.5, 'Average Grade 8 Math Score')"
      ]
     },
     "execution_count": 69,
     "metadata": {},
     "output_type": "execute_result"
    },
    {
     "data": {
      "image/png": "[encoded data removed]",
      "text/plain": [
       "<Figure size 864x432 with 1 Axes>"
      ]
     },
     "metadata": {
      "needs_background": "light"
     },
     "output_type": "display_data"
    }
   ],
   "source": [
    "# FOR REGRESSION ONLY: (pick a single column to visualize results)\n",
    "\n",
    "# Results from this graph _should not_ be used as a part of your results -- it is just here to help with intuition. \n",
    "# Instead, look at the error values and individual intercepts.\n",
    "\n",
    "\n",
    "col_name = \"AVG_MATH_4_SCORE\"\n",
    "col_index = X_train.columns.get_loc(col_name)\n",
    "\n",
    "f = plt.figure(figsize=(12,6))\n",
    "plt.scatter(X_train[col_name], y_train, color = \"red\")\n",
    "plt.scatter(X_train[col_name], model.predict(X_train), color = \"green\")\n",
    "plt.scatter(X_test[col_name], model.predict(X_test), color = \"blue\")\n",
    "\n",
    "new_x = np.linspace(X_train[col_name].min(),X_train[col_name].max(),200)\n",
    "intercept = model.predict([X_train.sort_values(col_name).iloc[0]]) - X_train[col_name].min()*model.coef_[col_index]\n",
    "plt.plot(new_x, intercept+new_x*model.coef_[col_index])\n",
    "\n",
    "plt.legend(['controlled model','true training','predicted training','predicted testing'])\n",
    "plt.xlabel(col_name)\n",
    "plt.ylabel(\"Average Grade 8 Math Score\")"
   ]
  },
  {
   "cell_type": "code",
   "execution_count": 70,
   "metadata": {},
   "outputs": [
    {
     "name": "stdout",
     "output_type": "stream",
     "text": [
      "[1.90168890e-04 5.89168984e-01 5.35188067e-03 4.54267608e-01\n",
      " 1.48546118e+10 1.48546119e+10 1.48546119e+10 1.48546118e+10\n",
      " 1.48546118e+10 1.48546119e+10 1.48546118e+10 1.48546118e+10\n",
      " 1.48546118e+10 1.48546118e+10 1.48546118e+10 1.48546118e+10\n",
      " 1.48546118e+10 1.48546119e+10 1.48546119e+10 1.48546118e+10\n",
      " 1.48546118e+10 1.48546119e+10 1.48546118e+10 1.48546118e+10\n",
      " 1.48546119e+10 1.48546118e+10 1.48546119e+10 1.48546118e+10\n",
      " 1.48546119e+10 1.48546118e+10 1.48546118e+10 1.48546119e+10\n",
      " 1.48546118e+10 1.48546119e+10 1.48546118e+10 1.48546118e+10\n",
      " 1.48546119e+10 1.48546118e+10 1.48546118e+10 1.48546119e+10\n",
      " 1.48546119e+10 1.48546119e+10 1.48546118e+10 1.48546119e+10\n",
      " 1.48546118e+10 1.48546118e+10 1.48546119e+10 1.48546119e+10\n",
      " 1.48546118e+10 1.48546119e+10 1.48546119e+10 1.48546119e+10\n",
      " 1.48546119e+10 1.48546119e+10 1.48546118e+10 1.48546119e+10\n",
      " 1.48546119e+10]\n"
     ]
    }
   ],
   "source": [
    "print(model.coef_)"
   ]
  },
  {
   "cell_type": "code",
   "execution_count": 73,
   "metadata": {},
   "outputs": [
    {
     "name": "stdout",
     "output_type": "stream",
     "text": [
      "0.9309249570901316\n",
      "2.0644545244817403\n",
      "1.4392480850219727\n"
     ]
    }
   ],
   "source": [
    "# look at R2 and RMSE here\n",
    "from sklearn.metrics import r2_score, mean_squared_error, median_absolute_error\n",
    "\n",
    "print(r2_score(y_pred, y_test))\n",
    "print(mean_squared_error(y_pred, y_test, squared=False))\n",
    "print(median_absolute_error(y_pred, y_test))"
   ]
  },
  {
   "cell_type": "code",
   "execution_count": 87,
   "metadata": {},
   "outputs": [
    {
     "name": "stdout",
     "output_type": "stream",
     "text": [
      "-1.5741537379600004\n"
     ]
    }
   ],
   "source": [
    "from sklearn.model_selection import cross_val_score\n",
    "\n",
    "print(sum(cross_val_score(model, X, y, scoring = \"neg_median_absolute_error\"))/5)"
   ]
  },
  {
   "cell_type": "markdown",
   "metadata": {},
   "source": [
    "<h2> Summary </h2>"
   ]
  },
  {
   "cell_type": "markdown",
   "metadata": {},
   "source": [
    "**<In this exercise, I used average score data from the other three tests whose statistics are reported, along with the state that the data corresponds to, to train a regression model to predict the average test score for the Grade 8 math exam in some given state. The \"state\" feature is included for training because during EDA, I found that there are large variations among the performance of states as evaluated by their median mean score during the reported time period. After training the regression model and analyzing the coefficients it found for each feature, it is claer that the test scores from the Grade 4 math test and Grade 8 reading test are both good indicators for Grade 8 math score, whereas the correlation with Grade 4 reading score is significantly weaker. The model achieved an average median absolute error of 1.574 on 5-fold cross validation, demonstrating a strong capacity to predict Grade 8 students' math competence given few relevant data.\\>**"
   ]
  }
 ],
 "metadata": {
  "kernelspec": {
   "display_name": "Python 3",
   "language": "python",
   "name": "python3"
  },
  "language_info": {
   "codemirror_mode": {
    "name": "ipython",
    "version": 3
   },
   "file_extension": ".py",
   "mimetype": "text/x-python",
   "name": "python",
   "nbconvert_exporter": "python",
   "pygments_lexer": "ipython3",
   "version": "3.8.5"
  }
 },
 "nbformat": 4,
 "nbformat_minor": 4
}
